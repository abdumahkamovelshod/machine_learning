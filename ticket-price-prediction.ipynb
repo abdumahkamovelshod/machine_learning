{
 "cells": [
  {
   "cell_type": "code",
   "execution_count": 1,
   "id": "9df17060",
   "metadata": {
    "_cell_guid": "b1076dfc-b9ad-4769-8c92-a6c4dae69d19",
    "_uuid": "8f2839f25d086af736a60e9eeb907d3b93b6e0e5",
    "execution": {
     "iopub.execute_input": "2024-02-23T09:56:39.312463Z",
     "iopub.status.busy": "2024-02-23T09:56:39.312004Z",
     "iopub.status.idle": "2024-02-23T09:56:40.484780Z",
     "shell.execute_reply": "2024-02-23T09:56:40.483381Z"
    },
    "papermill": {
     "duration": 1.187896,
     "end_time": "2024-02-23T09:56:40.488283",
     "exception": false,
     "start_time": "2024-02-23T09:56:39.300387",
     "status": "completed"
    },
    "tags": []
   },
   "outputs": [
    {
     "name": "stdout",
     "output_type": "stream",
     "text": [
      "/kaggle/input/aviachipta-narxini-bashorat-qilish/train_data.csv\n",
      "/kaggle/input/aviachipta-narxini-bashorat-qilish/test_data.csv\n",
      "/kaggle/input/aviachipta-narxini-bashorat-qilish/sample_solution.csv\n"
     ]
    }
   ],
   "source": [
    "# This Python 3 environment comes with many helpful analytics libraries installed\n",
    "# It is defined by the kaggle/python Docker image: https://github.com/kaggle/docker-python\n",
    "# For example, here's several helpful packages to load\n",
    "\n",
    "import numpy as np # linear algebra\n",
    "import pandas as pd # data processing, CSV file I/O (e.g. pd.read_csv)\n",
    "\n",
    "# Input data files are available in the read-only \"../input/\" directory\n",
    "# For example, running this (by clicking run or pressing Shift+Enter) will list all files under the input directory\n",
    "\n",
    "import os\n",
    "for dirname, _, filenames in os.walk('/kaggle/input'):\n",
    "    for filename in filenames:\n",
    "        print(os.path.join(dirname, filename))\n",
    "\n",
    "# You can write up to 20GB to the current directory (/kaggle/working/) that gets preserved as output when you create a version using \"Save & Run All\" \n",
    "# You can also write temporary files to /kaggle/temp/, but they won't be saved outside of the current session"
   ]
  },
  {
   "cell_type": "code",
   "execution_count": 2,
   "id": "1ab5884f",
   "metadata": {
    "execution": {
     "iopub.execute_input": "2024-02-23T09:56:40.507403Z",
     "iopub.status.busy": "2024-02-23T09:56:40.506908Z",
     "iopub.status.idle": "2024-02-23T09:56:43.073372Z",
     "shell.execute_reply": "2024-02-23T09:56:43.072180Z"
    },
    "papermill": {
     "duration": 2.579419,
     "end_time": "2024-02-23T09:56:43.076386",
     "exception": false,
     "start_time": "2024-02-23T09:56:40.496967",
     "status": "completed"
    },
    "tags": []
   },
   "outputs": [],
   "source": [
    "# Visualization\n",
    "import matplotlib.pyplot as plt\n",
    "import seaborn as sns\n",
    "\n",
    "\n",
    "\n",
    "\n",
    "from sklearn.preprocessing import StandardScaler\n",
    "from sklearn.ensemble import RandomForestRegressor\n",
    "from sklearn.metrics import mean_absolute_error,mean_squared_error"
   ]
  },
  {
   "cell_type": "code",
   "execution_count": 3,
   "id": "b3a160b7",
   "metadata": {
    "execution": {
     "iopub.execute_input": "2024-02-23T09:56:43.094524Z",
     "iopub.status.busy": "2024-02-23T09:56:43.094006Z",
     "iopub.status.idle": "2024-02-23T09:56:43.220072Z",
     "shell.execute_reply": "2024-02-23T09:56:43.218924Z"
    },
    "papermill": {
     "duration": 0.13833,
     "end_time": "2024-02-23T09:56:43.222711",
     "exception": false,
     "start_time": "2024-02-23T09:56:43.084381",
     "status": "completed"
    },
    "tags": []
   },
   "outputs": [],
   "source": [
    "train_set=pd.read_csv('/kaggle/input/aviachipta-narxini-bashorat-qilish/train_data.csv')\n",
    "test_set=pd.read_csv('/kaggle/input/aviachipta-narxini-bashorat-qilish/test_data.csv')\n",
    "sample_solution=pd.read_csv('/kaggle/input/aviachipta-narxini-bashorat-qilish/sample_solution.csv')"
   ]
  },
  {
   "cell_type": "code",
   "execution_count": 4,
   "id": "dc9cd2f5",
   "metadata": {
    "execution": {
     "iopub.execute_input": "2024-02-23T09:56:43.241611Z",
     "iopub.status.busy": "2024-02-23T09:56:43.240919Z",
     "iopub.status.idle": "2024-02-23T09:56:43.292786Z",
     "shell.execute_reply": "2024-02-23T09:56:43.291514Z"
    },
    "papermill": {
     "duration": 0.064065,
     "end_time": "2024-02-23T09:56:43.295327",
     "exception": false,
     "start_time": "2024-02-23T09:56:43.231262",
     "status": "completed"
    },
    "tags": []
   },
   "outputs": [
    {
     "name": "stdout",
     "output_type": "stream",
     "text": [
      "<class 'pandas.core.frame.DataFrame'>\n",
      "RangeIndex: 20000 entries, 0 to 19999\n",
      "Data columns (total 12 columns):\n",
      " #   Column            Non-Null Count  Dtype  \n",
      "---  ------            --------------  -----  \n",
      " 0   id                20000 non-null  int64  \n",
      " 1   airline           20000 non-null  object \n",
      " 2   flight            20000 non-null  object \n",
      " 3   source_city       20000 non-null  object \n",
      " 4   departure_time    20000 non-null  object \n",
      " 5   stops             20000 non-null  object \n",
      " 6   arrival_time      20000 non-null  object \n",
      " 7   destination_city  20000 non-null  object \n",
      " 8   class             20000 non-null  object \n",
      " 9   duration          20000 non-null  float64\n",
      " 10  days_left         20000 non-null  int64  \n",
      " 11  price             20000 non-null  int64  \n",
      "dtypes: float64(1), int64(3), object(8)\n",
      "memory usage: 1.8+ MB\n"
     ]
    }
   ],
   "source": [
    "train_set.info()"
   ]
  },
  {
   "cell_type": "code",
   "execution_count": 5,
   "id": "286c6f95",
   "metadata": {
    "execution": {
     "iopub.execute_input": "2024-02-23T09:56:43.314111Z",
     "iopub.status.busy": "2024-02-23T09:56:43.313384Z",
     "iopub.status.idle": "2024-02-23T09:56:43.337009Z",
     "shell.execute_reply": "2024-02-23T09:56:43.335862Z"
    },
    "papermill": {
     "duration": 0.036188,
     "end_time": "2024-02-23T09:56:43.339664",
     "exception": false,
     "start_time": "2024-02-23T09:56:43.303476",
     "status": "completed"
    },
    "tags": []
   },
   "outputs": [
    {
     "data": {
      "text/html": [
       "<div>\n",
       "<style scoped>\n",
       "    .dataframe tbody tr th:only-of-type {\n",
       "        vertical-align: middle;\n",
       "    }\n",
       "\n",
       "    .dataframe tbody tr th {\n",
       "        vertical-align: top;\n",
       "    }\n",
       "\n",
       "    .dataframe thead th {\n",
       "        text-align: right;\n",
       "    }\n",
       "</style>\n",
       "<table border=\"1\" class=\"dataframe\">\n",
       "  <thead>\n",
       "    <tr style=\"text-align: right;\">\n",
       "      <th></th>\n",
       "      <th>id</th>\n",
       "      <th>airline</th>\n",
       "      <th>flight</th>\n",
       "      <th>source_city</th>\n",
       "      <th>departure_time</th>\n",
       "      <th>stops</th>\n",
       "      <th>arrival_time</th>\n",
       "      <th>destination_city</th>\n",
       "      <th>class</th>\n",
       "      <th>duration</th>\n",
       "      <th>days_left</th>\n",
       "      <th>price</th>\n",
       "    </tr>\n",
       "  </thead>\n",
       "  <tbody>\n",
       "    <tr>\n",
       "      <th>0</th>\n",
       "      <td>1</td>\n",
       "      <td>Vistara</td>\n",
       "      <td>UK-810</td>\n",
       "      <td>Bangalore</td>\n",
       "      <td>Early_Morning</td>\n",
       "      <td>one</td>\n",
       "      <td>Night</td>\n",
       "      <td>Mumbai</td>\n",
       "      <td>Economy</td>\n",
       "      <td>14.25</td>\n",
       "      <td>21</td>\n",
       "      <td>7212</td>\n",
       "    </tr>\n",
       "    <tr>\n",
       "      <th>1</th>\n",
       "      <td>2</td>\n",
       "      <td>SpiceJet</td>\n",
       "      <td>SG-5094</td>\n",
       "      <td>Hyderabad</td>\n",
       "      <td>Evening</td>\n",
       "      <td>zero</td>\n",
       "      <td>Night</td>\n",
       "      <td>Kolkata</td>\n",
       "      <td>Economy</td>\n",
       "      <td>1.75</td>\n",
       "      <td>7</td>\n",
       "      <td>5292</td>\n",
       "    </tr>\n",
       "    <tr>\n",
       "      <th>2</th>\n",
       "      <td>3</td>\n",
       "      <td>Vistara</td>\n",
       "      <td>UK-846</td>\n",
       "      <td>Bangalore</td>\n",
       "      <td>Morning</td>\n",
       "      <td>one</td>\n",
       "      <td>Evening</td>\n",
       "      <td>Delhi</td>\n",
       "      <td>Business</td>\n",
       "      <td>9.58</td>\n",
       "      <td>5</td>\n",
       "      <td>60553</td>\n",
       "    </tr>\n",
       "    <tr>\n",
       "      <th>3</th>\n",
       "      <td>4</td>\n",
       "      <td>Vistara</td>\n",
       "      <td>UK-706</td>\n",
       "      <td>Kolkata</td>\n",
       "      <td>Morning</td>\n",
       "      <td>one</td>\n",
       "      <td>Evening</td>\n",
       "      <td>Hyderabad</td>\n",
       "      <td>Economy</td>\n",
       "      <td>6.75</td>\n",
       "      <td>28</td>\n",
       "      <td>5760</td>\n",
       "    </tr>\n",
       "    <tr>\n",
       "      <th>4</th>\n",
       "      <td>5</td>\n",
       "      <td>Indigo</td>\n",
       "      <td>6E-5394</td>\n",
       "      <td>Chennai</td>\n",
       "      <td>Early_Morning</td>\n",
       "      <td>zero</td>\n",
       "      <td>Morning</td>\n",
       "      <td>Mumbai</td>\n",
       "      <td>Economy</td>\n",
       "      <td>2.00</td>\n",
       "      <td>4</td>\n",
       "      <td>10712</td>\n",
       "    </tr>\n",
       "  </tbody>\n",
       "</table>\n",
       "</div>"
      ],
      "text/plain": [
       "   id   airline   flight source_city departure_time stops arrival_time  \\\n",
       "0   1   Vistara   UK-810   Bangalore  Early_Morning   one        Night   \n",
       "1   2  SpiceJet  SG-5094   Hyderabad        Evening  zero        Night   \n",
       "2   3   Vistara   UK-846   Bangalore        Morning   one      Evening   \n",
       "3   4   Vistara   UK-706     Kolkata        Morning   one      Evening   \n",
       "4   5    Indigo  6E-5394     Chennai  Early_Morning  zero      Morning   \n",
       "\n",
       "  destination_city     class  duration  days_left  price  \n",
       "0           Mumbai   Economy     14.25         21   7212  \n",
       "1          Kolkata   Economy      1.75          7   5292  \n",
       "2            Delhi  Business      9.58          5  60553  \n",
       "3        Hyderabad   Economy      6.75         28   5760  \n",
       "4           Mumbai   Economy      2.00          4  10712  "
      ]
     },
     "execution_count": 5,
     "metadata": {},
     "output_type": "execute_result"
    }
   ],
   "source": [
    "train_set.head()"
   ]
  },
  {
   "cell_type": "code",
   "execution_count": 6,
   "id": "4162cff1",
   "metadata": {
    "execution": {
     "iopub.execute_input": "2024-02-23T09:56:43.358815Z",
     "iopub.status.busy": "2024-02-23T09:56:43.358393Z",
     "iopub.status.idle": "2024-02-23T09:56:43.420293Z",
     "shell.execute_reply": "2024-02-23T09:56:43.419002Z"
    },
    "papermill": {
     "duration": 0.074915,
     "end_time": "2024-02-23T09:56:43.423063",
     "exception": false,
     "start_time": "2024-02-23T09:56:43.348148",
     "status": "completed"
    },
    "tags": []
   },
   "outputs": [],
   "source": [
    "# spliting the flight column\n",
    "train_set[['flight_c','flight_n']]=train_set['flight'].str.split('-',expand=True)\n",
    "test_set[['flight_c','flight_n']]=test_set['flight'].str.split('-',expand=True)\n",
    "\n",
    "# changing the type of flight_n column  \n",
    "train_set['flight_n']=train_set['flight_n'].astype(dtype=np.int64)\n",
    "test_set['flight_n']=test_set['flight_n'].astype(dtype=np.int64)\n"
   ]
  },
  {
   "cell_type": "code",
   "execution_count": 7,
   "id": "40849fe1",
   "metadata": {
    "execution": {
     "iopub.execute_input": "2024-02-23T09:56:43.442567Z",
     "iopub.status.busy": "2024-02-23T09:56:43.442186Z",
     "iopub.status.idle": "2024-02-23T09:56:43.457323Z",
     "shell.execute_reply": "2024-02-23T09:56:43.456132Z"
    },
    "papermill": {
     "duration": 0.028056,
     "end_time": "2024-02-23T09:56:43.460139",
     "exception": false,
     "start_time": "2024-02-23T09:56:43.432083",
     "status": "completed"
    },
    "tags": []
   },
   "outputs": [],
   "source": [
    "# we drop id and flight columns\n",
    "train_set.drop(columns=['id','flight'],inplace=True)\n",
    "test_set.drop(columns=['id','flight'],inplace=True)"
   ]
  },
  {
   "cell_type": "code",
   "execution_count": 8,
   "id": "70d9a4b6",
   "metadata": {
    "execution": {
     "iopub.execute_input": "2024-02-23T09:56:43.479277Z",
     "iopub.status.busy": "2024-02-23T09:56:43.478898Z",
     "iopub.status.idle": "2024-02-23T09:56:43.508417Z",
     "shell.execute_reply": "2024-02-23T09:56:43.507138Z"
    },
    "papermill": {
     "duration": 0.042419,
     "end_time": "2024-02-23T09:56:43.511082",
     "exception": false,
     "start_time": "2024-02-23T09:56:43.468663",
     "status": "completed"
    },
    "tags": []
   },
   "outputs": [
    {
     "data": {
      "text/plain": [
       "airline                6\n",
       "source_city            6\n",
       "departure_time         6\n",
       "stops                  3\n",
       "arrival_time           6\n",
       "destination_city       6\n",
       "class                  2\n",
       "duration             404\n",
       "days_left             49\n",
       "price               4420\n",
       "flight_c               6\n",
       "flight_n            1058\n",
       "dtype: int64"
      ]
     },
     "execution_count": 8,
     "metadata": {},
     "output_type": "execute_result"
    }
   ],
   "source": [
    "# the number of unique values\n",
    "train_set.nunique()"
   ]
  },
  {
   "cell_type": "markdown",
   "id": "c09302cb",
   "metadata": {
    "papermill": {
     "duration": 0.008282,
     "end_time": "2024-02-23T09:56:43.528153",
     "exception": false,
     "start_time": "2024-02-23T09:56:43.519871",
     "status": "completed"
    },
    "tags": []
   },
   "source": [
    "**Visualization**"
   ]
  },
  {
   "cell_type": "code",
   "execution_count": 9,
   "id": "2a3f637d",
   "metadata": {
    "execution": {
     "iopub.execute_input": "2024-02-23T09:56:43.547097Z",
     "iopub.status.busy": "2024-02-23T09:56:43.546711Z",
     "iopub.status.idle": "2024-02-23T09:56:44.565003Z",
     "shell.execute_reply": "2024-02-23T09:56:44.563828Z"
    },
    "papermill": {
     "duration": 1.031064,
     "end_time": "2024-02-23T09:56:44.567945",
     "exception": false,
     "start_time": "2024-02-23T09:56:43.536881",
     "status": "completed"
    },
    "tags": []
   },
   "outputs": [
    {
     "name": "stderr",
     "output_type": "stream",
     "text": [
      "/opt/conda/lib/python3.10/site-packages/seaborn/_oldcore.py:1119: FutureWarning: use_inf_as_na option is deprecated and will be removed in a future version. Convert inf values to NaN before operating instead.\n",
      "  with pd.option_context('mode.use_inf_as_na', True):\n",
      "/opt/conda/lib/python3.10/site-packages/seaborn/_oldcore.py:1075: FutureWarning: When grouping with a length-1 list-like, you will need to pass a length-1 tuple to get_group in a future version of pandas. Pass `(name,)` instead of `name` to silence this warning.\n",
      "  data_subset = grouped_data.get_group(pd_key)\n",
      "/opt/conda/lib/python3.10/site-packages/seaborn/_oldcore.py:1075: FutureWarning: When grouping with a length-1 list-like, you will need to pass a length-1 tuple to get_group in a future version of pandas. Pass `(name,)` instead of `name` to silence this warning.\n",
      "  data_subset = grouped_data.get_group(pd_key)\n",
      "/opt/conda/lib/python3.10/site-packages/seaborn/_oldcore.py:1075: FutureWarning: When grouping with a length-1 list-like, you will need to pass a length-1 tuple to get_group in a future version of pandas. Pass `(name,)` instead of `name` to silence this warning.\n",
      "  data_subset = grouped_data.get_group(pd_key)\n"
     ]
    },
    {
     "data": {
      "image/png": "[encoded data removed]",
      "text/plain": [
       "<Figure size 1200x500 with 2 Axes>"
      ]
     },
     "metadata": {},
     "output_type": "display_data"
    }
   ],
   "source": [
    "fig,ax=plt.subplots(1,2,figsize=(12,5))\n",
    "sns.histplot(train_set,x=train_set['price'],hue=train_set['class'],ax=ax[0])\n",
    "sns.barplot(data=train_set,x=train_set['class'],y=train_set['price'],ax=ax[1])\n",
    "ax[0].set_title('Ticket price distriution')\n",
    "ax[1].set_title('Graps between price and class')\n",
    "plt.show()"
   ]
  },
  {
   "cell_type": "code",
   "execution_count": 10,
   "id": "f8d9e875",
   "metadata": {
    "execution": {
     "iopub.execute_input": "2024-02-23T09:56:44.589423Z",
     "iopub.status.busy": "2024-02-23T09:56:44.589055Z",
     "iopub.status.idle": "2024-02-23T09:56:45.588326Z",
     "shell.execute_reply": "2024-02-23T09:56:45.587058Z"
    },
    "papermill": {
     "duration": 1.013466,
     "end_time": "2024-02-23T09:56:45.591466",
     "exception": false,
     "start_time": "2024-02-23T09:56:44.578000",
     "status": "completed"
    },
    "tags": []
   },
   "outputs": [
    {
     "data": {
      "image/png": "[encoded data removed]",
      "text/plain": [
       "<Figure size 1200x500 with 2 Axes>"
      ]
     },
     "metadata": {},
     "output_type": "display_data"
    }
   ],
   "source": [
    "fig,ax=plt.subplots(1,2,figsize=(12,5))\n",
    "sns.countplot(data=train_set,x=train_set['airline'],hue=train_set['class'],ax=ax[0])\n",
    "sns.barplot(data=train_set,x=train_set['airline'],y=train_set['price'],ax=ax[1])\n",
    "ax[0].set_title('number of business and economy class tickets by airlines')\n",
    "ax[1].set_title('graph between companies and prices')\n",
    "plt.show()\n",
    "\n"
   ]
  },
  {
   "cell_type": "code",
   "execution_count": 11,
   "id": "8781b08c",
   "metadata": {
    "execution": {
     "iopub.execute_input": "2024-02-23T09:56:45.614754Z",
     "iopub.status.busy": "2024-02-23T09:56:45.614357Z",
     "iopub.status.idle": "2024-02-23T09:56:46.133459Z",
     "shell.execute_reply": "2024-02-23T09:56:46.132115Z"
    },
    "papermill": {
     "duration": 0.534004,
     "end_time": "2024-02-23T09:56:46.136562",
     "exception": false,
     "start_time": "2024-02-23T09:56:45.602558",
     "status": "completed"
    },
    "tags": []
   },
   "outputs": [
    {
     "data": {
      "image/png": "[encoded data removed]",
      "text/plain": [
       "<Figure size 640x480 with 1 Axes>"
      ]
     },
     "metadata": {},
     "output_type": "display_data"
    }
   ],
   "source": [
    "sns.barplot(data=train_set,x=train_set['stops'],y=train_set['price'])\n",
    "plt.title('graph between stops and prices')\n",
    "plt.show()"
   ]
  },
  {
   "cell_type": "code",
   "execution_count": 12,
   "id": "2327af88",
   "metadata": {
    "execution": {
     "iopub.execute_input": "2024-02-23T09:56:46.159713Z",
     "iopub.status.busy": "2024-02-23T09:56:46.159312Z",
     "iopub.status.idle": "2024-02-23T09:56:46.301372Z",
     "shell.execute_reply": "2024-02-23T09:56:46.300141Z"
    },
    "papermill": {
     "duration": 0.15686,
     "end_time": "2024-02-23T09:56:46.303997",
     "exception": false,
     "start_time": "2024-02-23T09:56:46.147137",
     "status": "completed"
    },
    "tags": []
   },
   "outputs": [
    {
     "data": {
      "image/png": "[encoded data removed]",
      "text/plain": [
       "<Figure size 640x480 with 1 Axes>"
      ]
     },
     "metadata": {},
     "output_type": "display_data"
    }
   ],
   "source": [
    "#percentage of the number of tickets on the plane by business class and economy\n",
    "\n",
    "plt.pie(train_set[['class']].value_counts(),labels=['Economy','Business'],autopct='%1.1f%%')\n",
    "plt.title('percentage of the number of tickets on the plane by business class and economy')\n",
    "plt.show()"
   ]
  },
  {
   "cell_type": "code",
   "execution_count": 13,
   "id": "ae4de923",
   "metadata": {
    "execution": {
     "iopub.execute_input": "2024-02-23T09:56:46.329740Z",
     "iopub.status.busy": "2024-02-23T09:56:46.328250Z",
     "iopub.status.idle": "2024-02-23T09:56:46.339757Z",
     "shell.execute_reply": "2024-02-23T09:56:46.338541Z"
    },
    "papermill": {
     "duration": 0.027099,
     "end_time": "2024-02-23T09:56:46.342473",
     "exception": false,
     "start_time": "2024-02-23T09:56:46.315374",
     "status": "completed"
    },
    "tags": []
   },
   "outputs": [],
   "source": [
    "# Let's split train_set into x and y\n",
    "x=train_set.drop('price',axis=1)\n",
    "y=train_set[['price']]"
   ]
  },
  {
   "cell_type": "code",
   "execution_count": 14,
   "id": "97adb8cc",
   "metadata": {
    "execution": {
     "iopub.execute_input": "2024-02-23T09:56:46.366874Z",
     "iopub.status.busy": "2024-02-23T09:56:46.366209Z",
     "iopub.status.idle": "2024-02-23T09:56:46.421232Z",
     "shell.execute_reply": "2024-02-23T09:56:46.420255Z"
    },
    "papermill": {
     "duration": 0.070043,
     "end_time": "2024-02-23T09:56:46.423878",
     "exception": false,
     "start_time": "2024-02-23T09:56:46.353835",
     "status": "completed"
    },
    "tags": []
   },
   "outputs": [],
   "source": [
    "# convert categorical values to numbers\n",
    "x=pd.get_dummies(x)\n",
    "test_set=pd.get_dummies(test_set)"
   ]
  },
  {
   "cell_type": "code",
   "execution_count": 15,
   "id": "5ec34613",
   "metadata": {
    "execution": {
     "iopub.execute_input": "2024-02-23T09:56:46.448272Z",
     "iopub.status.busy": "2024-02-23T09:56:46.447863Z",
     "iopub.status.idle": "2024-02-23T09:56:57.707146Z",
     "shell.execute_reply": "2024-02-23T09:56:57.705911Z"
    },
    "papermill": {
     "duration": 11.274633,
     "end_time": "2024-02-23T09:56:57.709813",
     "exception": false,
     "start_time": "2024-02-23T09:56:46.435180",
     "status": "completed"
    },
    "tags": []
   },
   "outputs": [
    {
     "name": "stderr",
     "output_type": "stream",
     "text": [
      "/tmp/ipykernel_18/1773296064.py:3: DataConversionWarning: A column-vector y was passed when a 1d array was expected. Please change the shape of y to (n_samples,), for example using ravel().\n",
      "  model.fit(x,y)\n"
     ]
    },
    {
     "data": {
      "text/html": [
       "<style>#sk-container-id-1 {color: black;background-color: white;}#sk-container-id-1 pre{padding: 0;}#sk-container-id-1 div.sk-toggleable {background-color: white;}#sk-container-id-1 label.sk-toggleable__label {cursor: pointer;display: block;width: 100%;margin-bottom: 0;padding: 0.3em;box-sizing: border-box;text-align: center;}#sk-container-id-1 label.sk-toggleable__label-arrow:before {content: \"▸\";float: left;margin-right: 0.25em;color: #696969;}#sk-container-id-1 label.sk-toggleable__label-arrow:hover:before {color: black;}#sk-container-id-1 div.sk-estimator:hover label.sk-toggleable__label-arrow:before {color: black;}#sk-container-id-1 div.sk-toggleable__content {max-height: 0;max-width: 0;overflow: hidden;text-align: left;background-color: #f0f8ff;}#sk-container-id-1 div.sk-toggleable__content pre {margin: 0.2em;color: black;border-radius: 0.25em;background-color: #f0f8ff;}#sk-container-id-1 input.sk-toggleable__control:checked~div.sk-toggleable__content {max-height: 200px;max-width: 100%;overflow: auto;}#sk-container-id-1 input.sk-toggleable__control:checked~label.sk-toggleable__label-arrow:before {content: \"▾\";}#sk-container-id-1 div.sk-estimator input.sk-toggleable__control:checked~label.sk-toggleable__label {background-color: #d4ebff;}#sk-container-id-1 div.sk-label input.sk-toggleable__control:checked~label.sk-toggleable__label {background-color: #d4ebff;}#sk-container-id-1 input.sk-hidden--visually {border: 0;clip: rect(1px 1px 1px 1px);clip: rect(1px, 1px, 1px, 1px);height: 1px;margin: -1px;overflow: hidden;padding: 0;position: absolute;width: 1px;}#sk-container-id-1 div.sk-estimator {font-family: monospace;background-color: #f0f8ff;border: 1px dotted black;border-radius: 0.25em;box-sizing: border-box;margin-bottom: 0.5em;}#sk-container-id-1 div.sk-estimator:hover {background-color: #d4ebff;}#sk-container-id-1 div.sk-parallel-item::after {content: \"\";width: 100%;border-bottom: 1px solid gray;flex-grow: 1;}#sk-container-id-1 div.sk-label:hover label.sk-toggleable__label {background-color: #d4ebff;}#sk-container-id-1 div.sk-serial::before {content: \"\";position: absolute;border-left: 1px solid gray;box-sizing: border-box;top: 0;bottom: 0;left: 50%;z-index: 0;}#sk-container-id-1 div.sk-serial {display: flex;flex-direction: column;align-items: center;background-color: white;padding-right: 0.2em;padding-left: 0.2em;position: relative;}#sk-container-id-1 div.sk-item {position: relative;z-index: 1;}#sk-container-id-1 div.sk-parallel {display: flex;align-items: stretch;justify-content: center;background-color: white;position: relative;}#sk-container-id-1 div.sk-item::before, #sk-container-id-1 div.sk-parallel-item::before {content: \"\";position: absolute;border-left: 1px solid gray;box-sizing: border-box;top: 0;bottom: 0;left: 50%;z-index: -1;}#sk-container-id-1 div.sk-parallel-item {display: flex;flex-direction: column;z-index: 1;position: relative;background-color: white;}#sk-container-id-1 div.sk-parallel-item:first-child::after {align-self: flex-end;width: 50%;}#sk-container-id-1 div.sk-parallel-item:last-child::after {align-self: flex-start;width: 50%;}#sk-container-id-1 div.sk-parallel-item:only-child::after {width: 0;}#sk-container-id-1 div.sk-dashed-wrapped {border: 1px dashed gray;margin: 0 0.4em 0.5em 0.4em;box-sizing: border-box;padding-bottom: 0.4em;background-color: white;}#sk-container-id-1 div.sk-label label {font-family: monospace;font-weight: bold;display: inline-block;line-height: 1.2em;}#sk-container-id-1 div.sk-label-container {text-align: center;}#sk-container-id-1 div.sk-container {/* jupyter's `normalize.less` sets `[hidden] { display: none; }` but bootstrap.min.css set `[hidden] { display: none !important; }` so we also need the `!important` here to be able to override the default hidden behavior on the sphinx rendered scikit-learn.org. See: https://github.com/scikit-learn/scikit-learn/issues/21755 */display: inline-block !important;position: relative;}#sk-container-id-1 div.sk-text-repr-fallback {display: none;}</style><div id=\"sk-container-id-1\" class=\"sk-top-container\"><div class=\"sk-text-repr-fallback\"><pre>RandomForestRegressor()</pre><b>In a Jupyter environment, please rerun this cell to show the HTML representation or trust the notebook. <br />On GitHub, the HTML representation is unable to render, please try loading this page with nbviewer.org.</b></div><div class=\"sk-container\" hidden><div class=\"sk-item\"><div class=\"sk-estimator sk-toggleable\"><input class=\"sk-toggleable__control sk-hidden--visually\" id=\"sk-estimator-id-1\" type=\"checkbox\" checked><label for=\"sk-estimator-id-1\" class=\"sk-toggleable__label sk-toggleable__label-arrow\">RandomForestRegressor</label><div class=\"sk-toggleable__content\"><pre>RandomForestRegressor()</pre></div></div></div></div></div>"
      ],
      "text/plain": [
       "RandomForestRegressor()"
      ]
     },
     "execution_count": 15,
     "metadata": {},
     "output_type": "execute_result"
    }
   ],
   "source": [
    "# Modeling\n",
    "model=RandomForestRegressor()\n",
    "model.fit(x,y)"
   ]
  },
  {
   "cell_type": "code",
   "execution_count": 16,
   "id": "c93f9494",
   "metadata": {
    "execution": {
     "iopub.execute_input": "2024-02-23T09:56:57.735337Z",
     "iopub.status.busy": "2024-02-23T09:56:57.734965Z",
     "iopub.status.idle": "2024-02-23T09:56:57.907393Z",
     "shell.execute_reply": "2024-02-23T09:56:57.905992Z"
    },
    "papermill": {
     "duration": 0.188669,
     "end_time": "2024-02-23T09:56:57.910342",
     "exception": false,
     "start_time": "2024-02-23T09:56:57.721673",
     "status": "completed"
    },
    "tags": []
   },
   "outputs": [],
   "source": [
    "# Let's predict test_set\n",
    "prediction=model.predict(test_set)"
   ]
  },
  {
   "cell_type": "code",
   "execution_count": 17,
   "id": "925d9136",
   "metadata": {
    "execution": {
     "iopub.execute_input": "2024-02-23T09:56:57.936331Z",
     "iopub.status.busy": "2024-02-23T09:56:57.935910Z",
     "iopub.status.idle": "2024-02-23T09:56:57.949077Z",
     "shell.execute_reply": "2024-02-23T09:56:57.947462Z"
    },
    "papermill": {
     "duration": 0.029389,
     "end_time": "2024-02-23T09:56:57.951671",
     "exception": false,
     "start_time": "2024-02-23T09:56:57.922282",
     "status": "completed"
    },
    "tags": []
   },
   "outputs": [
    {
     "name": "stdout",
     "output_type": "stream",
     "text": [
      "22925.3530031\n",
      "32087.017072623574\n"
     ]
    }
   ],
   "source": [
    "\n",
    "print(mean_absolute_error(y.take(np.random.permutation(5000)),prediction))\n",
    "print(np.sqrt(mean_squared_error(y.take(np.random.permutation(5000)),prediction)))"
   ]
  },
  {
   "cell_type": "code",
   "execution_count": null,
   "id": "249186aa",
   "metadata": {
    "papermill": {
     "duration": 0.011768,
     "end_time": "2024-02-23T09:56:57.976900",
     "exception": false,
     "start_time": "2024-02-23T09:56:57.965132",
     "status": "completed"
    },
    "tags": []
   },
   "outputs": [],
   "source": []
  },
  {
   "cell_type": "code",
   "execution_count": 18,
   "id": "bda2ffe1",
   "metadata": {
    "execution": {
     "iopub.execute_input": "2024-02-23T09:56:58.003225Z",
     "iopub.status.busy": "2024-02-23T09:56:58.002838Z",
     "iopub.status.idle": "2024-02-23T09:56:58.013597Z",
     "shell.execute_reply": "2024-02-23T09:56:58.012370Z"
    },
    "papermill": {
     "duration": 0.027076,
     "end_time": "2024-02-23T09:56:58.016354",
     "exception": false,
     "start_time": "2024-02-23T09:56:57.989278",
     "status": "completed"
    },
    "tags": []
   },
   "outputs": [
    {
     "data": {
      "text/html": [
       "<div>\n",
       "<style scoped>\n",
       "    .dataframe tbody tr th:only-of-type {\n",
       "        vertical-align: middle;\n",
       "    }\n",
       "\n",
       "    .dataframe tbody tr th {\n",
       "        vertical-align: top;\n",
       "    }\n",
       "\n",
       "    .dataframe thead th {\n",
       "        text-align: right;\n",
       "    }\n",
       "</style>\n",
       "<table border=\"1\" class=\"dataframe\">\n",
       "  <thead>\n",
       "    <tr style=\"text-align: right;\">\n",
       "      <th></th>\n",
       "      <th>id</th>\n",
       "      <th>price</th>\n",
       "    </tr>\n",
       "  </thead>\n",
       "  <tbody>\n",
       "    <tr>\n",
       "      <th>0</th>\n",
       "      <td>1</td>\n",
       "      <td>0</td>\n",
       "    </tr>\n",
       "  </tbody>\n",
       "</table>\n",
       "</div>"
      ],
      "text/plain": [
       "   id  price\n",
       "0   1      0"
      ]
     },
     "execution_count": 18,
     "metadata": {},
     "output_type": "execute_result"
    }
   ],
   "source": [
    "sample_solution.head(1)"
   ]
  },
  {
   "cell_type": "code",
   "execution_count": 19,
   "id": "920dc9f3",
   "metadata": {
    "execution": {
     "iopub.execute_input": "2024-02-23T09:56:58.042525Z",
     "iopub.status.busy": "2024-02-23T09:56:58.042153Z",
     "iopub.status.idle": "2024-02-23T09:56:58.054571Z",
     "shell.execute_reply": "2024-02-23T09:56:58.053302Z"
    },
    "papermill": {
     "duration": 0.028185,
     "end_time": "2024-02-23T09:56:58.057056",
     "exception": false,
     "start_time": "2024-02-23T09:56:58.028871",
     "status": "completed"
    },
    "tags": []
   },
   "outputs": [
    {
     "data": {
      "text/html": [
       "<div>\n",
       "<style scoped>\n",
       "    .dataframe tbody tr th:only-of-type {\n",
       "        vertical-align: middle;\n",
       "    }\n",
       "\n",
       "    .dataframe tbody tr th {\n",
       "        vertical-align: top;\n",
       "    }\n",
       "\n",
       "    .dataframe thead th {\n",
       "        text-align: right;\n",
       "    }\n",
       "</style>\n",
       "<table border=\"1\" class=\"dataframe\">\n",
       "  <thead>\n",
       "    <tr style=\"text-align: right;\">\n",
       "      <th></th>\n",
       "      <th>id</th>\n",
       "      <th>price</th>\n",
       "    </tr>\n",
       "  </thead>\n",
       "  <tbody>\n",
       "    <tr>\n",
       "      <th>0</th>\n",
       "      <td>1</td>\n",
       "      <td>55164.04</td>\n",
       "    </tr>\n",
       "    <tr>\n",
       "      <th>1</th>\n",
       "      <td>2</td>\n",
       "      <td>62788.47</td>\n",
       "    </tr>\n",
       "    <tr>\n",
       "      <th>2</th>\n",
       "      <td>3</td>\n",
       "      <td>23469.80</td>\n",
       "    </tr>\n",
       "    <tr>\n",
       "      <th>3</th>\n",
       "      <td>4</td>\n",
       "      <td>2440.09</td>\n",
       "    </tr>\n",
       "    <tr>\n",
       "      <th>4</th>\n",
       "      <td>5</td>\n",
       "      <td>5642.64</td>\n",
       "    </tr>\n",
       "  </tbody>\n",
       "</table>\n",
       "</div>"
      ],
      "text/plain": [
       "   id     price\n",
       "0   1  55164.04\n",
       "1   2  62788.47\n",
       "2   3  23469.80\n",
       "3   4   2440.09\n",
       "4   5   5642.64"
      ]
     },
     "execution_count": 19,
     "metadata": {},
     "output_type": "execute_result"
    }
   ],
   "source": [
    "sub=pd.DataFrame({'id':sample_solution.id,'price':prediction})\n",
    "sub.head()"
   ]
  },
  {
   "cell_type": "code",
   "execution_count": 20,
   "id": "c1f89bae",
   "metadata": {
    "execution": {
     "iopub.execute_input": "2024-02-23T09:56:58.085910Z",
     "iopub.status.busy": "2024-02-23T09:56:58.085489Z",
     "iopub.status.idle": "2024-02-23T09:56:58.105517Z",
     "shell.execute_reply": "2024-02-23T09:56:58.104458Z"
    },
    "papermill": {
     "duration": 0.037287,
     "end_time": "2024-02-23T09:56:58.108070",
     "exception": false,
     "start_time": "2024-02-23T09:56:58.070783",
     "status": "completed"
    },
    "tags": []
   },
   "outputs": [],
   "source": [
    "sub.to_csv('solutionn',index=False)"
   ]
  },
  {
   "cell_type": "code",
   "execution_count": 21,
   "id": "861c1f56",
   "metadata": {
    "execution": {
     "iopub.execute_input": "2024-02-23T09:56:58.135399Z",
     "iopub.status.busy": "2024-02-23T09:56:58.134657Z",
     "iopub.status.idle": "2024-02-23T09:56:58.144868Z",
     "shell.execute_reply": "2024-02-23T09:56:58.143910Z"
    },
    "papermill": {
     "duration": 0.026674,
     "end_time": "2024-02-23T09:56:58.147176",
     "exception": false,
     "start_time": "2024-02-23T09:56:58.120502",
     "status": "completed"
    },
    "tags": []
   },
   "outputs": [
    {
     "data": {
      "text/html": [
       "<div>\n",
       "<style scoped>\n",
       "    .dataframe tbody tr th:only-of-type {\n",
       "        vertical-align: middle;\n",
       "    }\n",
       "\n",
       "    .dataframe tbody tr th {\n",
       "        vertical-align: top;\n",
       "    }\n",
       "\n",
       "    .dataframe thead th {\n",
       "        text-align: right;\n",
       "    }\n",
       "</style>\n",
       "<table border=\"1\" class=\"dataframe\">\n",
       "  <thead>\n",
       "    <tr style=\"text-align: right;\">\n",
       "      <th></th>\n",
       "      <th>id</th>\n",
       "      <th>price</th>\n",
       "    </tr>\n",
       "  </thead>\n",
       "  <tbody>\n",
       "    <tr>\n",
       "      <th>0</th>\n",
       "      <td>1</td>\n",
       "      <td>55164.04</td>\n",
       "    </tr>\n",
       "    <tr>\n",
       "      <th>1</th>\n",
       "      <td>2</td>\n",
       "      <td>62788.47</td>\n",
       "    </tr>\n",
       "    <tr>\n",
       "      <th>2</th>\n",
       "      <td>3</td>\n",
       "      <td>23469.80</td>\n",
       "    </tr>\n",
       "    <tr>\n",
       "      <th>3</th>\n",
       "      <td>4</td>\n",
       "      <td>2440.09</td>\n",
       "    </tr>\n",
       "    <tr>\n",
       "      <th>4</th>\n",
       "      <td>5</td>\n",
       "      <td>5642.64</td>\n",
       "    </tr>\n",
       "  </tbody>\n",
       "</table>\n",
       "</div>"
      ],
      "text/plain": [
       "   id     price\n",
       "0   1  55164.04\n",
       "1   2  62788.47\n",
       "2   3  23469.80\n",
       "3   4   2440.09\n",
       "4   5   5642.64"
      ]
     },
     "execution_count": 21,
     "metadata": {},
     "output_type": "execute_result"
    }
   ],
   "source": [
    "sub.head()"
   ]
  }
 ],
 "metadata": {
  "kaggle": {
   "accelerator": "none",
   "dataSources": [
    {
     "databundleVersionId": 3619833,
     "sourceId": 36503,
     "sourceType": "competition"
    }
   ],
   "dockerImageVersionId": 30646,
   "isGpuEnabled": false,
   "isInternetEnabled": true,
   "language": "python",
   "sourceType": "notebook"
  },
  "kernelspec": {
   "display_name": "Python 3",
   "language": "python",
   "name": "python3"
  },
  "language_info": {
   "codemirror_mode": {
    "name": "ipython",
    "version": 3
   },
   "file_extension": ".py",
   "mimetype": "text/x-python",
   "name": "python",
   "nbconvert_exporter": "python",
   "pygments_lexer": "ipython3",
   "version": "3.10.13"
  },
  "papermill": {
   "default_parameters": {},
   "duration": 22.798566,
   "end_time": "2024-02-23T09:56:58.885032",
   "environment_variables": {},
   "exception": null,
   "input_path": "__notebook__.ipynb",
   "output_path": "__notebook__.ipynb",
   "parameters": {},
   "start_time": "2024-02-23T09:56:36.086466",
   "version": "2.5.0"
  }
 },
 "nbformat": 4,
 "nbformat_minor": 5
}
